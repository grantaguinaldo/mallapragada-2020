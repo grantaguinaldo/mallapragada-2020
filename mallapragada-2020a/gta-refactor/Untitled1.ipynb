{
 "cells": [
  {
   "cell_type": "code",
   "execution_count": 12,
   "id": "cee69e44",
   "metadata": {},
   "outputs": [],
   "source": [
    "import pandas as pd\n",
    "cf_file = '5796_23.65_68.75_tmy.csv'\n",
    "PVAvail_tmy = pd.read_csv(cf_file, \n",
    "                          index_col=0,\n",
    "                          parse_dates=True,\n",
    "                          header=None, \n",
    "                          squeeze=True)\n",
    "pvavailarray = PVAvail_tmy.values"
   ]
  },
  {
   "cell_type": "code",
   "execution_count": 17,
   "id": "c1d16b61",
   "metadata": {},
   "outputs": [
    {
     "data": {
      "text/plain": [
       "8761"
      ]
     },
     "execution_count": 17,
     "metadata": {},
     "output_type": "execute_result"
    }
   ],
   "source": [
    "len(pvavailarray)"
   ]
  },
  {
   "cell_type": "code",
   "execution_count": 14,
   "id": "3fe5739f",
   "metadata": {},
   "outputs": [
    {
     "data": {
      "text/plain": [
       "range(1, 8762)"
      ]
     },
     "execution_count": 14,
     "metadata": {},
     "output_type": "execute_result"
    }
   ],
   "source": [
    "tval"
   ]
  },
  {
   "cell_type": "code",
   "execution_count": 16,
   "id": "8fb97579",
   "metadata": {},
   "outputs": [
    {
     "data": {
      "text/plain": [
       "array([0., 0., 0., ..., 0., 0., 0.])"
      ]
     },
     "execution_count": 16,
     "metadata": {},
     "output_type": "execute_result"
    }
   ],
   "source": [
    "pvavailarray"
   ]
  },
  {
   "cell_type": "code",
   "execution_count": null,
   "id": "70b7d0ed",
   "metadata": {},
   "outputs": [],
   "source": []
  }
 ],
 "metadata": {
  "kernelspec": {
   "display_name": "Python 3 (ipykernel)",
   "language": "python",
   "name": "python3"
  },
  "language_info": {
   "codemirror_mode": {
    "name": "ipython",
    "version": 3
   },
   "file_extension": ".py",
   "mimetype": "text/x-python",
   "name": "python",
   "nbconvert_exporter": "python",
   "pygments_lexer": "ipython3",
   "version": "3.7.3"
  }
 },
 "nbformat": 4,
 "nbformat_minor": 5
}
