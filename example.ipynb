{
 "cells": [
  {
   "cell_type": "markdown",
   "metadata": {},
   "source": [
    "## Script to implement design and optimization model\n",
    "### Author: Dharik S. Mallapragada\n",
    "##### Input files:\n",
    "##### a) PV resource file (5796_23.65_68.75_tmy.csv)\n",
    "##### b) Cost parameter, defined for each scenario as a separate folder under the folder \"CostScenarios\"\n",
    "##### Note: Script Gurobi license to run sucessfully."
   ]
  },
  {
   "cell_type": "code",
   "execution_count": null,
   "metadata": {},
   "outputs": [],
   "source": [
    "import pandas as pd\n",
    "import numpy as np\n",
    "import os\n",
    "import pyomo.environ as en\n",
    "from pyomo.opt import SolverFactory\n",
    "from Electrolyzer_v11 import build_model, GetStaticOutputs\n",
    "import pickle\n",
    "import gzip\n",
    "import copy"
   ]
  },
  {
   "cell_type": "markdown",
   "metadata": {},
   "source": [
    "# Define Gurobi parameters"
   ]
  },
  {
   "cell_type": "code",
   "execution_count": null,
   "metadata": {},
   "outputs": [],
   "source": [
    "opt = SolverFactory(\"gurobi\")\n",
    "opt.options['MIPGap'] = 0.01\n",
    "opt.options['TimeLimit'] = 60*60*4\n",
    "#opt.options['Threads'] = 4"
   ]
  },
  {
   "cell_type": "markdown",
   "metadata": {},
   "source": [
    "## Define functions used in analysis"
   ]
  },
  {
   "cell_type": "code",
   "execution_count": null,
   "metadata": {},
   "outputs": [],
   "source": [
    "def read_PV_avail_df(pv_avail_filename):\n",
    "    return pd.read_csv(pv_avail_filename, \n",
    "                       index_col=0, parse_dates=True,\n",
    "                       header=None, squeeze=True)\n",
    "\n",
    "def model_variables_to_dict(model):\n",
    "    solution = {}\n",
    "    for variable in model.component_objects(en.Var, active=True):\n",
    "        if len(variable) == 1 and None in variable:\n",
    "            solution[variable.name] = en.value(variable)\n",
    "        else:\n",
    "            solution[variable.name] = {index: en.value(variable[index]) for index in variable.index_set()}\n",
    "    return solution\n",
    "\n",
    "def load_variables(model, model_variables):\n",
    "    for variable_name, variable_values in model_variables.items():\n",
    "        if isinstance(variable_values, dict):\n",
    "            for vindex, index_value in variable_values.items():\n",
    "                getattr(model, variable_name)[vindex].value = index_value\n",
    "        else:\n",
    "            getattr(model, variable_name).value = variable_values\n",
    "\n",
    "def load_or_solve(pickle_filename, model, warmstart=False):\n",
    "    # loads the model from the file if it exists\n",
    "    # solves if not\n",
    "    # returns pickle dict\n",
    "    if os.path.exists(pickle_filename):\n",
    "        with gzip.open(pickle_filename, 'rb') as f:\n",
    "            pickle_dict = pickle.load(f)\n",
    "        model_variables = {k: v for k, v in pickle_dict.items() if k.startswith('v')}\n",
    "        load_variables(model, model_variables)\n",
    "    else:\n",
    "        results = opt.solve(model, report_timing=True, tee=True, warmstart=warmstart)\n",
    "#         log_infeasible_constraints(model)\n",
    "\n",
    "        pickle_dict = model_variables_to_dict(RefModel)\n",
    "        model_variables = copy.copy(pickle_dict)\n",
    "\n",
    "        pickle_dict['LowerBound'] = results.problem[0]['Lower bound']\n",
    "        pickle_dict['UpperBound'] = results.problem[0]['Upper bound']\n",
    "        pickle_dict['TerminationCondition'] = str(results.solver[0]['Termination condition'])\n",
    "        pickle_dict['Time'] = results.solver[0]['Time']\n",
    "        pickle_dict['WallTime'] = results.solver[0]['Wall time']\n",
    "\n",
    "    return (pickle_dict, model_variables)\n",
    "\n",
    "def write_pickle(pickle_filename, pickle_dict):\n",
    "    if not os.path.exists(pickle_filename):\n",
    "        with gzip.open(pickle_filename, 'wb') as f:\n",
    "            pickle.dump(pickle_dict, f)\n",
    "\n",
    "\n",
    "def add_solve_info(summary, pickle_dict):\n",
    "    summary['LowerBound'] = pickle_dict['LowerBound']\n",
    "    summary['UpperBound'] = pickle_dict['UpperBound']\n",
    "    summary['TerminationCondition'] = pickle_dict['TerminationCondition']\n",
    "    summary['Time'] = pickle_dict['Time']\n",
    "    summary['WallTime'] = pickle_dict['WallTime']"
   ]
  },
  {
   "cell_type": "markdown",
   "metadata": {},
   "source": [
    "## Run model for a particular scenario and store outputs"
   ]
  },
  {
   "cell_type": "code",
   "execution_count": null,
   "metadata": {},
   "outputs": [],
   "source": [
    "Outputs = []\n",
    "for cost_scenario in ['2020_AG']:\n",
    "    cost_scenario_folder = os.path.join('CostScenarios', cost_scenario)\n",
    "    \n",
    "    StorageData = pd.read_excel(os.path.join(cost_scenario_folder, 'StorageData.xlsx'),index_col=[0])\n",
    "    Discount_rate = 0.054  # Discount rate %\n",
    "    Lifetime = 20.0  # Lifetime in years\n",
    "    # Capital charge factor to annualize investment costs\n",
    "    CCF_val = 1/float((Discount_rate+1)/float(Discount_rate)*(1-1/(1+Discount_rate)**Lifetime))  \n",
    "    PVData = pd.read_excel(os.path.join(cost_scenario_folder, 'PVData.xlsx'),'Data',index_col=[0]) # PV cost data\n",
    "    ElyData = pd.read_excel(os.path.join(cost_scenario_folder, 'ElyData.xlsx'),'Data',index_col=[0]) # Electrolyzer cost data\n",
    "    H2StData = pd.read_excel(os.path.join(cost_scenario_folder, 'H2StData.xlsx'),'Data',index_col=[0]) # H2 storage cost data\n",
    "    cf_file = '5796_23.65_68.75_tmy.csv' # PV resource availability defined for a single location\n",
    "    PVAvail_tmy = read_PV_avail_df(cf_file)\n",
    "    productionCommitmentLB = int(np.floor(len(PVAvail_tmy) * .95)) # Minimum requirement for annual plant availability =95%\n",
    "    minimumProductionShutdownLength = 12 # Minimum number of hours system has to be turned down\n",
    "    P_Electricity = 120.0 #$/MWh # Price of exported grid electricity\n",
    "    LMPData = pd.Series(P_Electricity, index=range(len(PVAvail_tmy))) # 8760 x 1 vector of electricity prices \n",
    "\n",
    "    RefModel = build_model(PVAvail_tmy.values, LMPData.values, PVData,\n",
    "                           StorageData, ElyData, H2StData, CCF_val,\n",
    "                           productionCommitmentLB=productionCommitmentLB,\n",
    "                           minimumProductionShutdownLength=minimumProductionShutdownLength) # Construct pyomo model\n",
    "\n",
    "    for r in range(1,len(PVAvail_tmy.values)+1):\n",
    "        RefModel.vACPowtoGrid[r].fix(0)\n",
    "        RefModel.vH2PlantOutputSlack[r].fix(0)# Fix the grid exports (MW) =0\n",
    "\n",
    "    pickle_filename = f'{cost_scenario}_h2.p.gz'\n",
    "    (pickle_dict, _) = load_or_solve(pickle_filename, RefModel) # Function to solve model and store values of decision variables\n",
    "\n",
    "    Output = GetStaticOutputs(RefModel) # Store key metrics of interest in a dict along with other run information\n",
    "    Output['CostScenario'] = cost_scenario\n",
    "    Output['SolarFilename'] = cf_file\n",
    "    Output['ProductionCommitmentLB'] = productionCommitmentLB\n",
    "    Output['MinimumProductionShutdownLength'] = minimumProductionShutdownLength\n",
    "    Output['P_Electricity'] = 0\n",
    "    add_solve_info(Output, pickle_dict)\n",
    "\n",
    "    Outputs.append(Output)\n",
    "    pd.DataFrame(Outputs).to_csv(f'summary.csv')\n",
    "\n",
    "    write_pickle(pickle_filename, pickle_dict) # store value of decision variables as a pickle\n",
    "\n",
    "    # Grid Sales- Resolving the scheduling problem with grid exports allowed - for this run we fix size of various equipment\n",
    "    for r in range(1,len(PVAvail_tmy.values)+1):\n",
    "        RefModel.vACPowtoGrid[r].unfix()\n",
    "\n",
    "    # Fix all the variables corresponding to equipment sizing (except inverter size which is allowed to vary)    \n",
    "    for variable in ['vPVInstalledMW', 'vElyInstalledMW', 'vCompInstalledMW', 'vH2StInstalledNumber']:\n",
    "        getattr(RefModel, variable).fix()\n",
    "    RefModel.vStInstalledMW['es1'].fix()\n",
    "\n",
    "    pickle_filename = f'{cost_scenario}_cogen.p.gz'\n",
    "    (pickle_dict, _) = load_or_solve(pickle_filename, RefModel, warmstart=True) # Solve the model\n",
    "    \n",
    "       # Store key metrics of interest in a dict along with other run information\n",
    "    Output = GetStaticOutputs(RefModel)\n",
    "    Output['CostScenario'] = cost_scenario\n",
    "    Output['SolarFilename'] = cf_file\n",
    "    Output['ProductionCommitmentLB'] = productionCommitmentLB\n",
    "    Output['MinimumProductionShutdownLength'] = minimumProductionShutdownLength\n",
    "    Output['P_Electricity'] = P_Electricity\n",
    "    add_solve_info(Output, pickle_dict)\n",
    "\n",
    "    Outputs.append(Output)\n",
    "    pd.DataFrame(Outputs).to_csv(f'summary.csv')\n",
    "\n",
    "    write_pickle(pickle_filename, pickle_dict) # store value of decision variables as a pickle"
   ]
  },
  {
   "cell_type": "code",
   "execution_count": null,
   "metadata": {},
   "outputs": [],
   "source": []
  }
 ],
 "metadata": {
  "kernelspec": {
   "display_name": "Python (py36)",
   "language": "python",
   "name": "py36"
  },
  "language_info": {
   "codemirror_mode": {
    "name": "ipython",
    "version": 3
   },
   "file_extension": ".py",
   "mimetype": "text/x-python",
   "name": "python",
   "nbconvert_exporter": "python",
   "pygments_lexer": "ipython3",
   "version": "3.6.8"
  }
 },
 "nbformat": 4,
 "nbformat_minor": 2
}
