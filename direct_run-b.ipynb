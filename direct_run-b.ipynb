{
 "cells": [
  {
   "cell_type": "code",
   "execution_count": 1,
   "id": "fc937e94",
   "metadata": {},
   "outputs": [],
   "source": [
    "import pandas as pd\n",
    "import numpy as np\n",
    "import os\n",
    "import pyomo.environ as en\n",
    "from pyomo.opt import SolverFactory, SolverStatus, TerminationCondition\n",
    "from pyomo.util.infeasible import log_infeasible_constraints\n",
    "from Electrolyzer_v11b import build_model, GetStaticOutputs\n",
    "import pickle\n",
    "import gzip\n",
    "import copy\n",
    "import logging\n",
    "import time\n",
    "\n",
    "# Run using the TEMOA Environment, but with `pyomo=6.0`\n",
    "\n",
    "logging.basicConfig(filename='direct_run_b.log', level=logging.INFO)"
   ]
  },
  {
   "cell_type": "code",
   "execution_count": 2,
   "id": "3001567b",
   "metadata": {},
   "outputs": [],
   "source": [
    "st = time.time()"
   ]
  },
  {
   "cell_type": "code",
   "execution_count": 3,
   "id": "4bd0b325",
   "metadata": {},
   "outputs": [],
   "source": [
    "cost_scenario = '2020_AG'\n",
    "cost_scenario_folder = os.path.join('CostScenarios', cost_scenario)\n",
    "\n",
    "StorageData = pd.read_excel(os.path.join(cost_scenario_folder, 'StorageData.xlsx'),index_col=[0])\n",
    "Discount_rate = 0.054  # Discount rate %\n",
    "Lifetime = 20.0  # Lifetime in years\n",
    "# Capital charge factor to annualize investment costs\n",
    "CCF_val = 1/float((Discount_rate+1)/float(Discount_rate)*(1-1/(1+Discount_rate)**Lifetime))  \n",
    "PVData = pd.read_excel(os.path.join(cost_scenario_folder, 'PVData.xlsx'),'Data',index_col=[0]) # PV cost data\n",
    "ElyData = pd.read_excel(os.path.join(cost_scenario_folder, 'ElyData.xlsx'),'Data',index_col=[0]) # Electrolyzer cost data\n",
    "H2StData = pd.read_excel(os.path.join(cost_scenario_folder, 'H2StData.xlsx'),'Data',index_col=[0]) # H2 storage cost data\n",
    "cf_file = '5796_23.65_68.75_tmy.csv' # PV resource availability defined for a single location\n",
    "\n",
    "#PVAvail_tmy = read_PV_avail_df(cf_file)\n",
    "\n",
    "PVAvail_tmy = pd.read_csv(cf_file,\n",
    "                          index_col=0, \n",
    "                          parse_dates=True,\n",
    "                          header=None,\n",
    "                          squeeze=True)\n",
    "\n",
    "productionCommitmentLB = int(np.floor(len(PVAvail_tmy) * .95)) # Minimum requirement for annual plant availability =95%\n",
    "minimumProductionShutdownLength = 12 # Minimum number of hours system has to be turned down\n",
    "P_Electricity = 120.0 #$/MWh # Price of exported grid electricity\n",
    "LMPData = pd.Series(P_Electricity, index=range(len(PVAvail_tmy))) # 8760 x 1 vector of electricity prices "
   ]
  },
  {
   "cell_type": "code",
   "execution_count": 4,
   "id": "47d0e7b2",
   "metadata": {},
   "outputs": [
    {
     "name": "stdout",
     "output_type": "stream",
     "text": [
      "[    0.27] Resetting the tic/toc delta timer\n",
      "[+   0.25] File \"/Users/gta/Desktop/mallapragada-2020b/Electrolyzer_v11b.py\", line 231 in build_model\n",
      "defined parameters 0\n",
      "[+   0.00] File \"/Users/gta/Desktop/mallapragada-2020b/Electrolyzer_v11b.py\", line 237 in build_model\n",
      "defined PV fixcost 0\n",
      "[+   0.00] File \"/Users/gta/Desktop/mallapragada-2020b/Electrolyzer_v11b.py\", line 260 in build_model\n",
      "defined H2 fixcost 0\n",
      "[+   0.13] File \"/Users/gta/Desktop/mallapragada-2020b/Electrolyzer_v11b.py\", line 270 in build_model\n",
      "defined sys variable cost 0\n",
      "[+   0.04] File \"/Users/gta/Desktop/mallapragada-2020b/Electrolyzer_v11b.py\", line 293 in build_model\n",
      "defined objective function 0\n",
      "[+   0.21] File \"/Users/gta/Desktop/mallapragada-2020b/Electrolyzer_v11b.py\", line 307 in build_model\n",
      "defined PV constraints 0\n",
      "[+   0.67] File \"/Users/gta/Desktop/mallapragada-2020b/Electrolyzer_v11b.py\", line 345 in build_model\n",
      "defined storage constraints 0\n",
      "[+   0.88] File \"/Users/gta/Desktop/mallapragada-2020b/Electrolyzer_v11b.py\", line 407 in build_model\n",
      "defined H2 storage constraints 0\n"
     ]
    }
   ],
   "source": [
    "m = build_model(pvavailarray=PVAvail_tmy.values,\n",
    "                pricearray=LMPData.values,\n",
    "                dfPVData=PVData,\n",
    "                dfStorData=StorageData,\n",
    "                dfElyData=ElyData,\n",
    "                dfH2StData=H2StData,\n",
    "                CCF=CCF_val,\n",
    "                productionCommitmentLB=productionCommitmentLB,\n",
    "                minimumProductionShutdownLength=minimumProductionShutdownLength)"
   ]
  },
  {
   "cell_type": "code",
   "execution_count": 5,
   "id": "486fc980",
   "metadata": {},
   "outputs": [
    {
     "name": "stdout",
     "output_type": "stream",
     "text": [
      "\n",
      "Welcome to IBM(R) ILOG(R) CPLEX(R) Interactive Optimizer 12.9.0.0\n",
      "  with Simplex, Mixed Integer & Barrier Optimizers\n",
      "5725-A06 5725-A29 5724-Y48 5724-Y49 5724-Y54 5724-Y55 5655-Y21\n",
      "Copyright IBM Corp. 1988, 2019.  All Rights Reserved.\n",
      "\n",
      "Type 'help' for a list of available commands.\n",
      "Type 'help' followed by a command name for more\n",
      "information on commands.\n",
      "\n",
      "CPLEX> Logfile 'cplex.log' closed.\n",
      "Logfile '/var/folders/q5/ny1flrzs6nv9nk5k366w2gtr0000gn/T/tmpm4ql8x96.cplex.log' open.\n",
      "CPLEX> New value for mixed integer optimality gap tolerance: 0.01\n",
      "CPLEX> New value for time limit in seconds: 3600\n",
      "CPLEX> Problem '/var/folders/q5/ny1flrzs6nv9nk5k366w2gtr0000gn/T/tmpjonc7ucp.pyomo.lp' read.\n",
      "Read time = 0.86 sec. (26.47 ticks)\n",
      "CPLEX> Problem name         : /var/folders/q5/ny1flrzs6nv9nk5k366w2gtr0000gn/T/tmpjonc7ucp.pyomo.lp\n",
      "Objective sense      : Minimize\n",
      "Variables            :  131423  [Nneg: 122662,  Binary: 8761]\n",
      "Objective nonzeros   :   43812\n",
      "Linear constraints   :  262833  [Less: 192743,  Greater: 1,  Equal: 70089]\n",
      "  Nonzeros           :  705204\n",
      "  RHS nonzeros       :  105134\n",
      "\n",
      "Variables            : Min LB: 0.000000         Max UB: 1.000000       \n",
      "Objective nonzeros   : Min   : 0.01486750       Max   : 142481.7       \n",
      "Linear constraints   :\n",
      "  Nonzeros           : Min   : 0.0008188928     Max   : 4166.667       \n",
      "  RHS nonzeros       : Min   : 1.000000         Max   : 8322.000       \n",
      "CPLEX> CPXPARAM_TimeLimit                               3600\n",
      "CPXPARAM_MIP_Tolerances_MIPGap                   0.01\n",
      "Tried aggregator 2 times.\n",
      "MIP Presolve eliminated 22082 rows and 13321 columns.\n",
      "Aggregator did 47192 substitutions.\n",
      "Reduced MIP has 193559 rows, 70910 columns, and 662499 nonzeros.\n",
      "Reduced MIP has 8761 binaries, 0 generals, 0 SOSs, and 0 indicators.\n",
      "Presolve time = 1.48 sec. (467.31 ticks)\n",
      "Found incumbent of value 3.6864798e+12 after 1.85 sec. (767.51 ticks)\n",
      "Probing time = 0.07 sec. (9.38 ticks)\n",
      "Tried aggregator 1 time.\n",
      "Reduced MIP has 193559 rows, 70910 columns, and 662499 nonzeros.\n",
      "Reduced MIP has 8761 binaries, 0 generals, 0 SOSs, and 0 indicators.\n",
      "Presolve time = 0.96 sec. (344.22 ticks)\n",
      "Probing time = 0.04 sec. (10.03 ticks)\n",
      "MIP emphasis: balance optimality and feasibility.\n",
      "MIP search method: dynamic search.\n",
      "Parallel mode: deterministic, using up to 8 threads.\n",
      "Root relaxation solution time = 162.42 sec. (245293.27 ticks)\n",
      "\n",
      "        Nodes                                         Cuts/\n",
      "   Node  Left     Objective  IInf  Best Integer    Best Bound    ItCnt     Gap\n",
      "\n",
      "*     0+    0                       3.68648e+12                            --- \n",
      "      0     0     unbounded         3.68648e+12                 138227     --- \n",
      "\n",
      "Root node processing (before b&c):\n",
      "  Real time             =  165.50 sec. (246585.19 ticks)\n",
      "Parallel b&c, 8 threads:\n",
      "  Real time             =    0.00 sec. (0.00 ticks)\n",
      "  Sync time (average)   =    0.00 sec.\n",
      "  Wait time (average)   =    0.00 sec.\n",
      "                          ------------\n",
      "Total (root+branch&cut) =  165.50 sec. (246585.19 ticks)\n",
      "\n",
      "Solution pool: 2 solutions saved.\n",
      "\n",
      "MIP - Integer unbounded:  Objective =  3.6864798436e+12\n",
      "Current MIP best bound is infinite.\n",
      "Solution time =  165.51 sec.  Iterations = 138227  Nodes = 0\n",
      "Deterministic time = 246585.56 ticks  (1489.89 ticks/sec)\n",
      "\n",
      "CPLEX> Incumbent solution written to file '/var/folders/q5/ny1flrzs6nv9nk5k366w2gtr0000gn/T/tmphwevl_a8.cplex.sol'.\n",
      "CPLEX> "
     ]
    }
   ],
   "source": [
    "opt = SolverFactory('cplex')\n",
    "opt.options['mipgap'] = 0.01\n",
    "opt.options['timelimit'] = 60*60*1\n",
    "results = opt.solve(m, tee = True)\n",
    "log_infeasible_constraints(m, log_expression=True, log_variables=True)"
   ]
  },
  {
   "cell_type": "code",
   "execution_count": 6,
   "id": "d28f30de",
   "metadata": {},
   "outputs": [
    {
     "name": "stdout",
     "output_type": "stream",
     "text": [
      "Normal termination\n"
     ]
    }
   ],
   "source": [
    "if (results.solver.status == SolverStatus.ok):\n",
    "    print('Normal termination')\n",
    "\n",
    "elif (results.solver.status == SolverStatus.warning):\n",
    "    print('Termination with unusual condition')\n",
    "\n",
    "elif (results.solver.status == SolverStatus.error):\n",
    "    print('Terminated internally with error')\n",
    "\n",
    "elif (results.solver.status == SolverStatus.aborted):\n",
    "    print('Terminated due to external conditions (e.g. interrupts)')\n",
    "\n",
    "elif (results.solver.status == SolverStatus.unknown):\n",
    "    print('Unknown (an uninitialized value)')\n",
    "else:\n",
    "    print(\"Solver Status: {}\".format(results.solver.status))"
   ]
  },
  {
   "cell_type": "code",
   "execution_count": 7,
   "id": "4d3c221e",
   "metadata": {},
   "outputs": [
    {
     "name": "stdout",
     "output_type": "stream",
     "text": [
      "Demonstrated that problem is unbounded\n"
     ]
    }
   ],
   "source": [
    "if (results.solver.termination_condition == TerminationCondition.optimal):\n",
    "    print('Optimal Solution Found')\n",
    "elif (results.solver.termination_condition == TerminationCondition.maxTimeLimit):\n",
    "    print('Exceeded maximum time limit allowed')\n",
    "\n",
    "elif (results.solver.termination_condition == TerminationCondition.maxIterations):\n",
    "    print('Exceeded maximum number of iterations allowed')\n",
    "\n",
    "elif (results.solver.termination_condition == TerminationCondition.minFunctionValue):\n",
    "    print('Found solution smaller than specified function value')\n",
    "\n",
    "elif (results.solver.termination_condition == TerminationCondition.minStepLength):\n",
    "    print('Step length is smaller than specified limit')\n",
    "\n",
    "elif (results.solver.termination_condition == TerminationCondition.globallyOptimal):\n",
    "    print('Found a globally optimal solution')\n",
    "\n",
    "elif (results.solver.termination_condition == TerminationCondition.locallyOptimal):\n",
    "    print('Found a locally optimal solution')\n",
    "\n",
    "elif (results.solver.termination_condition == TerminationCondition.optimal):\n",
    "    print('Found an optimal solution')\n",
    "\n",
    "elif (results.solver.termination_condition == TerminationCondition.maxEvaluations):\n",
    "    print('Exceeded maximum number of problem evaluations (e.g., branch and bound nodes)')\n",
    "\n",
    "elif (results.solver.termination_condition == TerminationCondition.other):\n",
    "    print('Other, uncategorized normal termination')\n",
    "\n",
    "elif (results.solver.termination_condition == TerminationCondition.unbounded):\n",
    "    print('Demonstrated that problem is unbounded')\n",
    "\n",
    "elif (results.solver.termination_condition == TerminationCondition.infeasible):\n",
    "    print('Demonstrated that problem is infeasible')\n",
    "\n",
    "elif (results.solver.termination_condition == TerminationCondition.invalidProblem):\n",
    "    print('The problem setup or characteristics are not valid for the solver')\n",
    "\n",
    "elif (results.solver.termination_condition == TerminationCondition.solverFailure):\n",
    "    print('Solver failed to terminate correctly')\n",
    "\n",
    "elif (results.solver.termination_condition == TerminationCondition.internalSolverError):\n",
    "    print('Internal solver error')\n",
    "\n",
    "elif (results.solver.termination_condition == TerminationCondition.error):\n",
    "    print('Other error')\n",
    "\n",
    "elif (results.solver.termination_condition == TerminationCondition.userInterrupt):\n",
    "    print('Interrupt signal generated by user')\n",
    "\n",
    "elif (results.solver.termination_condition == TerminationCondition.resourceInterrupt):\n",
    "    print('Interrupt signal in resources used by the solver')\n",
    "\n",
    "elif (results.solver.termination_condition == TerminationCondition.licensingProblem):\n",
    "    print('Problem accessing solver license')\n",
    "else:\n",
    "    print(\"Solver Status: {}\".format(results.solver.status))"
   ]
  },
  {
   "cell_type": "code",
   "execution_count": 8,
   "id": "f419a8af",
   "metadata": {},
   "outputs": [],
   "source": [
    "et = time.time()"
   ]
  },
  {
   "cell_type": "code",
   "execution_count": 9,
   "id": "79849648",
   "metadata": {},
   "outputs": [
    {
     "name": "stdout",
     "output_type": "stream",
     "text": [
      "Elapsed Time: 248.248 min\n"
     ]
    }
   ],
   "source": [
    "delta = (et - st) / 60\n",
    "print('Elapsed Time: {:.3f} min'.format(delta))"
   ]
  },
  {
   "cell_type": "code",
   "execution_count": 12,
   "id": "82aa719a",
   "metadata": {},
   "outputs": [
    {
     "data": {
      "text/plain": [
       "1000"
      ]
     },
     "execution_count": 12,
     "metadata": {},
     "output_type": "execute_result"
    }
   ],
   "source": [
    "en.value(m.pH2kgpertank)"
   ]
  },
  {
   "cell_type": "code",
   "execution_count": 13,
   "id": "e6052251",
   "metadata": {},
   "outputs": [
    {
     "ename": "ValueError",
     "evalue": "No value for uninitialized NumericValue object vPVInstalledMW",
     "output_type": "error",
     "traceback": [
      "\u001b[0;31m---------------------------------------------------------------------------\u001b[0m",
      "\u001b[0;31mValueError\u001b[0m                                Traceback (most recent call last)",
      "\u001b[0;32m/var/folders/q5/ny1flrzs6nv9nk5k366w2gtr0000gn/T/ipykernel_22567/1149554426.py\u001b[0m in \u001b[0;36m<module>\u001b[0;34m\u001b[0m\n\u001b[0;32m----> 1\u001b[0;31m \u001b[0men\u001b[0m\u001b[0;34m.\u001b[0m\u001b[0mvalue\u001b[0m\u001b[0;34m(\u001b[0m\u001b[0mm\u001b[0m\u001b[0;34m.\u001b[0m\u001b[0mvPVInstalledMW\u001b[0m\u001b[0;34m)\u001b[0m\u001b[0;34m\u001b[0m\u001b[0;34m\u001b[0m\u001b[0m\n\u001b[0m",
      "\u001b[0;32mpyomo/core/expr/numvalue.pyx\u001b[0m in \u001b[0;36mpyomo.core.expr.numvalue.value\u001b[0;34m()\u001b[0m\n",
      "\u001b[0;32mpyomo/core/expr/numvalue.pyx\u001b[0m in \u001b[0;36mpyomo.core.expr.numvalue.value\u001b[0;34m()\u001b[0m\n",
      "\u001b[0;31mValueError\u001b[0m: No value for uninitialized NumericValue object vPVInstalledMW"
     ]
    }
   ],
   "source": [
    "en.value(m.vPVInstalledMW)"
   ]
  },
  {
   "cell_type": "code",
   "execution_count": 14,
   "id": "40d10191",
   "metadata": {},
   "outputs": [
    {
     "ename": "TypeError",
     "evalue": "'IndexedVar' object is not callable",
     "output_type": "error",
     "traceback": [
      "\u001b[0;31m---------------------------------------------------------------------------\u001b[0m",
      "\u001b[0;31mTypeError\u001b[0m                                 Traceback (most recent call last)",
      "\u001b[0;32m/var/folders/q5/ny1flrzs6nv9nk5k366w2gtr0000gn/T/ipykernel_22567/2862071340.py\u001b[0m in \u001b[0;36m<module>\u001b[0;34m\u001b[0m\n\u001b[0;32m----> 1\u001b[0;31m \u001b[0men\u001b[0m\u001b[0;34m.\u001b[0m\u001b[0mvalue\u001b[0m\u001b[0;34m(\u001b[0m\u001b[0mm\u001b[0m\u001b[0;34m.\u001b[0m\u001b[0mvPVtoDCPow\u001b[0m\u001b[0;34m)\u001b[0m\u001b[0;34m\u001b[0m\u001b[0;34m\u001b[0m\u001b[0m\n\u001b[0m",
      "\u001b[0;32mpyomo/core/expr/numvalue.pyx\u001b[0m in \u001b[0;36mpyomo.core.expr.numvalue.value\u001b[0;34m()\u001b[0m\n",
      "\u001b[0;32mpyomo/core/expr/numvalue.pyx\u001b[0m in \u001b[0;36mpyomo.core.expr.numvalue.value\u001b[0;34m()\u001b[0m\n",
      "\u001b[0;31mTypeError\u001b[0m: 'IndexedVar' object is not callable"
     ]
    }
   ],
   "source": [
    "en.value(m.vPVtoDCPow)"
   ]
  },
  {
   "cell_type": "code",
   "execution_count": 15,
   "id": "39a938d3",
   "metadata": {},
   "outputs": [
    {
     "ename": "ValueError",
     "evalue": "No value for uninitialized NumericValue object vPVtoDCPow[10]",
     "output_type": "error",
     "traceback": [
      "\u001b[0;31m---------------------------------------------------------------------------\u001b[0m",
      "\u001b[0;31mValueError\u001b[0m                                Traceback (most recent call last)",
      "\u001b[0;32m/var/folders/q5/ny1flrzs6nv9nk5k366w2gtr0000gn/T/ipykernel_22567/3188161469.py\u001b[0m in \u001b[0;36m<module>\u001b[0;34m\u001b[0m\n\u001b[0;32m----> 1\u001b[0;31m \u001b[0men\u001b[0m\u001b[0;34m.\u001b[0m\u001b[0mvalue\u001b[0m\u001b[0;34m(\u001b[0m\u001b[0mm\u001b[0m\u001b[0;34m.\u001b[0m\u001b[0mvPVtoDCPow\u001b[0m\u001b[0;34m[\u001b[0m\u001b[0;36m10\u001b[0m\u001b[0;34m]\u001b[0m\u001b[0;34m)\u001b[0m\u001b[0;34m\u001b[0m\u001b[0;34m\u001b[0m\u001b[0m\n\u001b[0m",
      "\u001b[0;32mpyomo/core/expr/numvalue.pyx\u001b[0m in \u001b[0;36mpyomo.core.expr.numvalue.value\u001b[0;34m()\u001b[0m\n",
      "\u001b[0;32mpyomo/core/expr/numvalue.pyx\u001b[0m in \u001b[0;36mpyomo.core.expr.numvalue.value\u001b[0;34m()\u001b[0m\n",
      "\u001b[0;31mValueError\u001b[0m: No value for uninitialized NumericValue object vPVtoDCPow[10]"
     ]
    }
   ],
   "source": [
    "en.value(m.vPVtoDCPow[10])"
   ]
  },
  {
   "cell_type": "code",
   "execution_count": 18,
   "id": "fd1ee646",
   "metadata": {},
   "outputs": [
    {
     "ename": "ValueError",
     "evalue": "No value for uninitialized NumericValue object vCompInstalledMW",
     "output_type": "error",
     "traceback": [
      "\u001b[0;31m---------------------------------------------------------------------------\u001b[0m",
      "\u001b[0;31mValueError\u001b[0m                                Traceback (most recent call last)",
      "\u001b[0;32m/var/folders/q5/ny1flrzs6nv9nk5k366w2gtr0000gn/T/ipykernel_22567/1395250546.py\u001b[0m in \u001b[0;36m<module>\u001b[0;34m\u001b[0m\n\u001b[0;32m----> 1\u001b[0;31m \u001b[0men\u001b[0m\u001b[0;34m.\u001b[0m\u001b[0mvalue\u001b[0m\u001b[0;34m(\u001b[0m\u001b[0mm\u001b[0m\u001b[0;34m.\u001b[0m\u001b[0mvCompInstalledMW\u001b[0m\u001b[0;34m)\u001b[0m\u001b[0;34m\u001b[0m\u001b[0;34m\u001b[0m\u001b[0m\n\u001b[0m",
      "\u001b[0;32mpyomo/core/expr/numvalue.pyx\u001b[0m in \u001b[0;36mpyomo.core.expr.numvalue.value\u001b[0;34m()\u001b[0m\n",
      "\u001b[0;32mpyomo/core/expr/numvalue.pyx\u001b[0m in \u001b[0;36mpyomo.core.expr.numvalue.value\u001b[0;34m()\u001b[0m\n",
      "\u001b[0;31mValueError\u001b[0m: No value for uninitialized NumericValue object vCompInstalledMW"
     ]
    }
   ],
   "source": [
    "en.value(m.vCompInstalledMW)"
   ]
  },
  {
   "cell_type": "code",
   "execution_count": 22,
   "id": "8b4f950e",
   "metadata": {},
   "outputs": [
    {
     "data": {
      "text/plain": [
       "516"
      ]
     },
     "execution_count": 22,
     "metadata": {},
     "output_type": "execute_result"
    }
   ],
   "source": [
    "en.value(m.pCapCostH2st)"
   ]
  },
  {
   "cell_type": "code",
   "execution_count": 23,
   "id": "90b5fb7f",
   "metadata": {},
   "outputs": [
    {
     "data": {
      "text/plain": [
       "5.16"
      ]
     },
     "execution_count": 23,
     "metadata": {},
     "output_type": "execute_result"
    }
   ],
   "source": [
    "en.value(m.pFOMCostH2st)"
   ]
  },
  {
   "cell_type": "code",
   "execution_count": 24,
   "id": "a6454ef1",
   "metadata": {},
   "outputs": [
    {
     "data": {
      "text/plain": [
       "1"
      ]
     },
     "execution_count": 24,
     "metadata": {},
     "output_type": "execute_result"
    }
   ],
   "source": [
    "en.value(m.pCompSpecPower)"
   ]
  }
 ],
 "metadata": {
  "kernelspec": {
   "display_name": "Python 3 (ipykernel)",
   "language": "python",
   "name": "python3"
  },
  "language_info": {
   "codemirror_mode": {
    "name": "ipython",
    "version": 3
   },
   "file_extension": ".py",
   "mimetype": "text/x-python",
   "name": "python",
   "nbconvert_exporter": "python",
   "pygments_lexer": "ipython3",
   "version": "3.7.3"
  }
 },
 "nbformat": 4,
 "nbformat_minor": 5
}
